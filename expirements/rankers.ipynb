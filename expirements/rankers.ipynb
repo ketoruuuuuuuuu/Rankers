{
 "cells": [
  {
   "cell_type": "code",
   "execution_count": 5,
   "metadata": {},
   "outputs": [],
   "source": [
    "import pandas as pd\n",
    "import numpy as np\n",
    "import seaborn as sns\n",
    "import matplotlib.pyplot as plt\n",
    "import time\n",
    "from catboost import CatBoostRanker, Pool, CatBoostClassifier\n",
    "from catboost.utils import eval_metric\n",
    "from IPython import display as disp\n",
    "from sklearn.metrics import accuracy_score,roc_auc_score,f1_score"
   ]
  },
  {
   "cell_type": "markdown",
   "metadata": {},
   "source": [
    "## NDCG"
   ]
  },
  {
   "cell_type": "markdown",
   "metadata": {},
   "source": [
    "Так как имеется значительное количество групп, для которых нет релевантного результа, а единого решения, как считать ndcg, когда idcg = 0, я не нашел, то буду считать 2 варинта метрики"
   ]
  },
  {
   "cell_type": "code",
   "execution_count": 6,
   "metadata": {},
   "outputs": [],
   "source": [
    "def dcg_score(y_true, y_score):\n",
    "    \"\"\"Discounted cumulative gain (DCG) at rank K.\n",
    "\n",
    "    Parameters\n",
    "    ----------\n",
    "    y_true : array,\n",
    "        Ground truth (true relevance labels).\n",
    "    y_score : array,\n",
    "        Predicted scores.\n",
    "    \n",
    "    Returns\n",
    "    -------\n",
    "    score : float\n",
    "    \"\"\"\n",
    "    order = np.argsort(y_score)[::-1]\n",
    "    y_true = np.take(y_true, order)\n",
    "\n",
    "    gain = 2 ** y_true - 1\n",
    "\n",
    "    discounts = np.log2(np.arange(len(y_true)) + 2)\n",
    "    return np.sum(gain / discounts)"
   ]
  },
  {
   "cell_type": "code",
   "execution_count": 7,
   "metadata": {},
   "outputs": [],
   "source": [
    "def ndcg_score(ground_truth, predictions, idcg_zero_policy = 1):\n",
    "    \"\"\"Normalized discounted cumulative gain (NDCG) at rank K.\n",
    "\n",
    "    Normalized Discounted Cumulative Gain (NDCG) measures the performance of a\n",
    "    recommendation system based on the graded relevance of the recommended\n",
    "    entities. It varies from 0.0 to 1.0, with 1.0 representing the ideal\n",
    "    ranking of the entities.\n",
    "\n",
    "    Parameters\n",
    "    ----------\n",
    "    ground_truth : array, shape = [n_samples]\n",
    "        Ground truth (true labels represended as integers).\n",
    "    predictions : array, shape = [n_samples, n_classes]\n",
    "        Predicted probabilities.\n",
    "    idcg_zero_policy : [0,1,'ignore'] \n",
    "        ndcg if idcg = 0\n",
    "    Returns\n",
    "    -------\n",
    "    score : float\n",
    "    \"\"\"\n",
    "    scores = []\n",
    "\n",
    "    # Iterate over each y_true and compute the DCG score\n",
    "    for y_true, y_score in zip(ground_truth, predictions):\n",
    "        ignore = False\n",
    "        actual = dcg_score(y_true, y_score)\n",
    "        best = dcg_score(y_true, y_true)\n",
    "        if best < 1e-8:\n",
    "            if idcg_zero_policy == 0:\n",
    "                scores.append(0)\n",
    "            elif idcg_zero_policy == 1:\n",
    "                scores.append(1.)\n",
    "            elif idcg_zero_policy == 'ignore':\n",
    "                ignore = True\n",
    "        else:\n",
    "            if not ignore:\n",
    "                score = float(actual) / float(best)\n",
    "                scores.append(score)\n",
    "                \n",
    "    return np.mean(scores)"
   ]
  },
  {
   "cell_type": "markdown",
   "metadata": {},
   "source": [
    "## Предобработка"
   ]
  },
  {
   "cell_type": "code",
   "execution_count": 8,
   "metadata": {},
   "outputs": [],
   "source": [
    "train_df = pd.read_csv('../data/train_df.csv')\n",
    "test_df = pd.read_csv('../data/test_df.csv')"
   ]
  },
  {
   "cell_type": "code",
   "execution_count": 9,
   "metadata": {},
   "outputs": [
    {
     "data": {
      "text/html": [
       "<div>\n",
       "<style scoped>\n",
       "    .dataframe tbody tr th:only-of-type {\n",
       "        vertical-align: middle;\n",
       "    }\n",
       "\n",
       "    .dataframe tbody tr th {\n",
       "        vertical-align: top;\n",
       "    }\n",
       "\n",
       "    .dataframe thead th {\n",
       "        text-align: right;\n",
       "    }\n",
       "</style>\n",
       "<table border=\"1\" class=\"dataframe\">\n",
       "  <thead>\n",
       "    <tr style=\"text-align: right;\">\n",
       "      <th></th>\n",
       "      <th>search_id</th>\n",
       "      <th>feature_0</th>\n",
       "      <th>feature_1</th>\n",
       "      <th>feature_2</th>\n",
       "      <th>feature_3</th>\n",
       "      <th>feature_4</th>\n",
       "      <th>feature_5</th>\n",
       "      <th>feature_6</th>\n",
       "      <th>feature_7</th>\n",
       "      <th>feature_8</th>\n",
       "      <th>...</th>\n",
       "      <th>feature_70</th>\n",
       "      <th>feature_71</th>\n",
       "      <th>feature_72</th>\n",
       "      <th>feature_73</th>\n",
       "      <th>feature_74</th>\n",
       "      <th>feature_75</th>\n",
       "      <th>feature_76</th>\n",
       "      <th>feature_77</th>\n",
       "      <th>feature_78</th>\n",
       "      <th>target</th>\n",
       "    </tr>\n",
       "  </thead>\n",
       "  <tbody>\n",
       "    <tr>\n",
       "      <th>0</th>\n",
       "      <td>758</td>\n",
       "      <td>9</td>\n",
       "      <td>0</td>\n",
       "      <td>0</td>\n",
       "      <td>1</td>\n",
       "      <td>20</td>\n",
       "      <td>3</td>\n",
       "      <td>40</td>\n",
       "      <td>0</td>\n",
       "      <td>3</td>\n",
       "      <td>...</td>\n",
       "      <td>0.204682</td>\n",
       "      <td>0.271755</td>\n",
       "      <td>0.055623</td>\n",
       "      <td>0</td>\n",
       "      <td>0</td>\n",
       "      <td>0</td>\n",
       "      <td>0.38648</td>\n",
       "      <td>0.0</td>\n",
       "      <td>0.0</td>\n",
       "      <td>0</td>\n",
       "    </tr>\n",
       "    <tr>\n",
       "      <th>1</th>\n",
       "      <td>758</td>\n",
       "      <td>9</td>\n",
       "      <td>0</td>\n",
       "      <td>0</td>\n",
       "      <td>1</td>\n",
       "      <td>20</td>\n",
       "      <td>3</td>\n",
       "      <td>40</td>\n",
       "      <td>0</td>\n",
       "      <td>3</td>\n",
       "      <td>...</td>\n",
       "      <td>0.195531</td>\n",
       "      <td>0.188787</td>\n",
       "      <td>0.036914</td>\n",
       "      <td>0</td>\n",
       "      <td>0</td>\n",
       "      <td>0</td>\n",
       "      <td>0.10982</td>\n",
       "      <td>0.0</td>\n",
       "      <td>0.0</td>\n",
       "      <td>0</td>\n",
       "    </tr>\n",
       "    <tr>\n",
       "      <th>2</th>\n",
       "      <td>758</td>\n",
       "      <td>9</td>\n",
       "      <td>0</td>\n",
       "      <td>0</td>\n",
       "      <td>1</td>\n",
       "      <td>20</td>\n",
       "      <td>3</td>\n",
       "      <td>40</td>\n",
       "      <td>0</td>\n",
       "      <td>3</td>\n",
       "      <td>...</td>\n",
       "      <td>0.148609</td>\n",
       "      <td>0.186517</td>\n",
       "      <td>0.027718</td>\n",
       "      <td>0</td>\n",
       "      <td>0</td>\n",
       "      <td>0</td>\n",
       "      <td>0.03674</td>\n",
       "      <td>0.0</td>\n",
       "      <td>0.0</td>\n",
       "      <td>0</td>\n",
       "    </tr>\n",
       "    <tr>\n",
       "      <th>3</th>\n",
       "      <td>758</td>\n",
       "      <td>9</td>\n",
       "      <td>0</td>\n",
       "      <td>0</td>\n",
       "      <td>1</td>\n",
       "      <td>20</td>\n",
       "      <td>3</td>\n",
       "      <td>40</td>\n",
       "      <td>0</td>\n",
       "      <td>3</td>\n",
       "      <td>...</td>\n",
       "      <td>0.223748</td>\n",
       "      <td>0.229039</td>\n",
       "      <td>0.051247</td>\n",
       "      <td>0</td>\n",
       "      <td>0</td>\n",
       "      <td>0</td>\n",
       "      <td>0.00000</td>\n",
       "      <td>0.0</td>\n",
       "      <td>0.0</td>\n",
       "      <td>0</td>\n",
       "    </tr>\n",
       "    <tr>\n",
       "      <th>4</th>\n",
       "      <td>758</td>\n",
       "      <td>9</td>\n",
       "      <td>0</td>\n",
       "      <td>0</td>\n",
       "      <td>1</td>\n",
       "      <td>20</td>\n",
       "      <td>3</td>\n",
       "      <td>40</td>\n",
       "      <td>0</td>\n",
       "      <td>3</td>\n",
       "      <td>...</td>\n",
       "      <td>0.170935</td>\n",
       "      <td>0.249031</td>\n",
       "      <td>0.042568</td>\n",
       "      <td>0</td>\n",
       "      <td>0</td>\n",
       "      <td>0</td>\n",
       "      <td>0.00000</td>\n",
       "      <td>0.0</td>\n",
       "      <td>0.0</td>\n",
       "      <td>0</td>\n",
       "    </tr>\n",
       "    <tr>\n",
       "      <th>...</th>\n",
       "      <td>...</td>\n",
       "      <td>...</td>\n",
       "      <td>...</td>\n",
       "      <td>...</td>\n",
       "      <td>...</td>\n",
       "      <td>...</td>\n",
       "      <td>...</td>\n",
       "      <td>...</td>\n",
       "      <td>...</td>\n",
       "      <td>...</td>\n",
       "      <td>...</td>\n",
       "      <td>...</td>\n",
       "      <td>...</td>\n",
       "      <td>...</td>\n",
       "      <td>...</td>\n",
       "      <td>...</td>\n",
       "      <td>...</td>\n",
       "      <td>...</td>\n",
       "      <td>...</td>\n",
       "      <td>...</td>\n",
       "      <td>...</td>\n",
       "    </tr>\n",
       "    <tr>\n",
       "      <th>15076</th>\n",
       "      <td>494693</td>\n",
       "      <td>9</td>\n",
       "      <td>0</td>\n",
       "      <td>0</td>\n",
       "      <td>0</td>\n",
       "      <td>9</td>\n",
       "      <td>4</td>\n",
       "      <td>38</td>\n",
       "      <td>6</td>\n",
       "      <td>6</td>\n",
       "      <td>...</td>\n",
       "      <td>0.309672</td>\n",
       "      <td>0.921060</td>\n",
       "      <td>0.285226</td>\n",
       "      <td>0</td>\n",
       "      <td>0</td>\n",
       "      <td>0</td>\n",
       "      <td>0.98807</td>\n",
       "      <td>0.0</td>\n",
       "      <td>0.0</td>\n",
       "      <td>0</td>\n",
       "    </tr>\n",
       "    <tr>\n",
       "      <th>15077</th>\n",
       "      <td>494693</td>\n",
       "      <td>9</td>\n",
       "      <td>0</td>\n",
       "      <td>0</td>\n",
       "      <td>0</td>\n",
       "      <td>9</td>\n",
       "      <td>4</td>\n",
       "      <td>38</td>\n",
       "      <td>6</td>\n",
       "      <td>6</td>\n",
       "      <td>...</td>\n",
       "      <td>0.303805</td>\n",
       "      <td>0.995086</td>\n",
       "      <td>0.302312</td>\n",
       "      <td>0</td>\n",
       "      <td>0</td>\n",
       "      <td>0</td>\n",
       "      <td>0.87146</td>\n",
       "      <td>0.0</td>\n",
       "      <td>0.0</td>\n",
       "      <td>0</td>\n",
       "    </tr>\n",
       "    <tr>\n",
       "      <th>15078</th>\n",
       "      <td>494693</td>\n",
       "      <td>9</td>\n",
       "      <td>0</td>\n",
       "      <td>0</td>\n",
       "      <td>0</td>\n",
       "      <td>9</td>\n",
       "      <td>4</td>\n",
       "      <td>38</td>\n",
       "      <td>6</td>\n",
       "      <td>6</td>\n",
       "      <td>...</td>\n",
       "      <td>0.346538</td>\n",
       "      <td>0.993070</td>\n",
       "      <td>0.344137</td>\n",
       "      <td>0</td>\n",
       "      <td>0</td>\n",
       "      <td>0</td>\n",
       "      <td>0.49999</td>\n",
       "      <td>0.0</td>\n",
       "      <td>0.0</td>\n",
       "      <td>0</td>\n",
       "    </tr>\n",
       "    <tr>\n",
       "      <th>15079</th>\n",
       "      <td>494693</td>\n",
       "      <td>9</td>\n",
       "      <td>0</td>\n",
       "      <td>0</td>\n",
       "      <td>0</td>\n",
       "      <td>9</td>\n",
       "      <td>4</td>\n",
       "      <td>38</td>\n",
       "      <td>6</td>\n",
       "      <td>6</td>\n",
       "      <td>...</td>\n",
       "      <td>0.243154</td>\n",
       "      <td>0.994833</td>\n",
       "      <td>0.241898</td>\n",
       "      <td>0</td>\n",
       "      <td>0</td>\n",
       "      <td>0</td>\n",
       "      <td>0.67614</td>\n",
       "      <td>0.0</td>\n",
       "      <td>0.0</td>\n",
       "      <td>0</td>\n",
       "    </tr>\n",
       "    <tr>\n",
       "      <th>15080</th>\n",
       "      <td>494693</td>\n",
       "      <td>9</td>\n",
       "      <td>0</td>\n",
       "      <td>0</td>\n",
       "      <td>0</td>\n",
       "      <td>9</td>\n",
       "      <td>4</td>\n",
       "      <td>38</td>\n",
       "      <td>6</td>\n",
       "      <td>6</td>\n",
       "      <td>...</td>\n",
       "      <td>0.294564</td>\n",
       "      <td>0.987208</td>\n",
       "      <td>0.290796</td>\n",
       "      <td>0</td>\n",
       "      <td>0</td>\n",
       "      <td>0</td>\n",
       "      <td>0.53674</td>\n",
       "      <td>0.0</td>\n",
       "      <td>0.0</td>\n",
       "      <td>1</td>\n",
       "    </tr>\n",
       "  </tbody>\n",
       "</table>\n",
       "<p>15081 rows × 81 columns</p>\n",
       "</div>"
      ],
      "text/plain": [
       "       search_id  feature_0  feature_1  feature_2  feature_3  feature_4  \\\n",
       "0            758          9          0          0          1         20   \n",
       "1            758          9          0          0          1         20   \n",
       "2            758          9          0          0          1         20   \n",
       "3            758          9          0          0          1         20   \n",
       "4            758          9          0          0          1         20   \n",
       "...          ...        ...        ...        ...        ...        ...   \n",
       "15076     494693          9          0          0          0          9   \n",
       "15077     494693          9          0          0          0          9   \n",
       "15078     494693          9          0          0          0          9   \n",
       "15079     494693          9          0          0          0          9   \n",
       "15080     494693          9          0          0          0          9   \n",
       "\n",
       "       feature_5  feature_6  feature_7  feature_8  ...  feature_70  \\\n",
       "0              3         40          0          3  ...    0.204682   \n",
       "1              3         40          0          3  ...    0.195531   \n",
       "2              3         40          0          3  ...    0.148609   \n",
       "3              3         40          0          3  ...    0.223748   \n",
       "4              3         40          0          3  ...    0.170935   \n",
       "...          ...        ...        ...        ...  ...         ...   \n",
       "15076          4         38          6          6  ...    0.309672   \n",
       "15077          4         38          6          6  ...    0.303805   \n",
       "15078          4         38          6          6  ...    0.346538   \n",
       "15079          4         38          6          6  ...    0.243154   \n",
       "15080          4         38          6          6  ...    0.294564   \n",
       "\n",
       "       feature_71  feature_72  feature_73  feature_74  feature_75  feature_76  \\\n",
       "0        0.271755    0.055623           0           0           0     0.38648   \n",
       "1        0.188787    0.036914           0           0           0     0.10982   \n",
       "2        0.186517    0.027718           0           0           0     0.03674   \n",
       "3        0.229039    0.051247           0           0           0     0.00000   \n",
       "4        0.249031    0.042568           0           0           0     0.00000   \n",
       "...           ...         ...         ...         ...         ...         ...   \n",
       "15076    0.921060    0.285226           0           0           0     0.98807   \n",
       "15077    0.995086    0.302312           0           0           0     0.87146   \n",
       "15078    0.993070    0.344137           0           0           0     0.49999   \n",
       "15079    0.994833    0.241898           0           0           0     0.67614   \n",
       "15080    0.987208    0.290796           0           0           0     0.53674   \n",
       "\n",
       "       feature_77  feature_78  target  \n",
       "0             0.0         0.0       0  \n",
       "1             0.0         0.0       0  \n",
       "2             0.0         0.0       0  \n",
       "3             0.0         0.0       0  \n",
       "4             0.0         0.0       0  \n",
       "...           ...         ...     ...  \n",
       "15076         0.0         0.0       0  \n",
       "15077         0.0         0.0       0  \n",
       "15078         0.0         0.0       0  \n",
       "15079         0.0         0.0       0  \n",
       "15080         0.0         0.0       1  \n",
       "\n",
       "[15081 rows x 81 columns]"
      ]
     },
     "metadata": {},
     "output_type": "display_data"
    },
    {
     "data": {
      "text/html": [
       "<div>\n",
       "<style scoped>\n",
       "    .dataframe tbody tr th:only-of-type {\n",
       "        vertical-align: middle;\n",
       "    }\n",
       "\n",
       "    .dataframe tbody tr th {\n",
       "        vertical-align: top;\n",
       "    }\n",
       "\n",
       "    .dataframe thead th {\n",
       "        text-align: right;\n",
       "    }\n",
       "</style>\n",
       "<table border=\"1\" class=\"dataframe\">\n",
       "  <thead>\n",
       "    <tr style=\"text-align: right;\">\n",
       "      <th></th>\n",
       "      <th>search_id</th>\n",
       "      <th>feature_0</th>\n",
       "      <th>feature_1</th>\n",
       "      <th>feature_2</th>\n",
       "      <th>feature_3</th>\n",
       "      <th>feature_4</th>\n",
       "      <th>feature_5</th>\n",
       "      <th>feature_6</th>\n",
       "      <th>feature_7</th>\n",
       "      <th>feature_8</th>\n",
       "      <th>...</th>\n",
       "      <th>feature_70</th>\n",
       "      <th>feature_71</th>\n",
       "      <th>feature_72</th>\n",
       "      <th>feature_73</th>\n",
       "      <th>feature_74</th>\n",
       "      <th>feature_75</th>\n",
       "      <th>feature_76</th>\n",
       "      <th>feature_77</th>\n",
       "      <th>feature_78</th>\n",
       "      <th>target</th>\n",
       "    </tr>\n",
       "  </thead>\n",
       "  <tbody>\n",
       "    <tr>\n",
       "      <th>0</th>\n",
       "      <td>10655</td>\n",
       "      <td>9</td>\n",
       "      <td>0</td>\n",
       "      <td>0</td>\n",
       "      <td>1</td>\n",
       "      <td>20</td>\n",
       "      <td>4</td>\n",
       "      <td>40</td>\n",
       "      <td>0</td>\n",
       "      <td>0</td>\n",
       "      <td>...</td>\n",
       "      <td>0.148830</td>\n",
       "      <td>0.196644</td>\n",
       "      <td>0.029267</td>\n",
       "      <td>0</td>\n",
       "      <td>0</td>\n",
       "      <td>0</td>\n",
       "      <td>0.03674</td>\n",
       "      <td>0.0</td>\n",
       "      <td>0.0</td>\n",
       "      <td>0</td>\n",
       "    </tr>\n",
       "    <tr>\n",
       "      <th>1</th>\n",
       "      <td>10655</td>\n",
       "      <td>9</td>\n",
       "      <td>0</td>\n",
       "      <td>0</td>\n",
       "      <td>1</td>\n",
       "      <td>20</td>\n",
       "      <td>4</td>\n",
       "      <td>40</td>\n",
       "      <td>0</td>\n",
       "      <td>0</td>\n",
       "      <td>...</td>\n",
       "      <td>0.119724</td>\n",
       "      <td>0.174199</td>\n",
       "      <td>0.020856</td>\n",
       "      <td>0</td>\n",
       "      <td>0</td>\n",
       "      <td>0</td>\n",
       "      <td>0.00000</td>\n",
       "      <td>0.0</td>\n",
       "      <td>0.0</td>\n",
       "      <td>0</td>\n",
       "    </tr>\n",
       "    <tr>\n",
       "      <th>2</th>\n",
       "      <td>10655</td>\n",
       "      <td>9</td>\n",
       "      <td>0</td>\n",
       "      <td>0</td>\n",
       "      <td>1</td>\n",
       "      <td>20</td>\n",
       "      <td>4</td>\n",
       "      <td>40</td>\n",
       "      <td>0</td>\n",
       "      <td>0</td>\n",
       "      <td>...</td>\n",
       "      <td>0.160606</td>\n",
       "      <td>0.198780</td>\n",
       "      <td>0.031925</td>\n",
       "      <td>0</td>\n",
       "      <td>0</td>\n",
       "      <td>0</td>\n",
       "      <td>0.00000</td>\n",
       "      <td>0.0</td>\n",
       "      <td>0.0</td>\n",
       "      <td>0</td>\n",
       "    </tr>\n",
       "    <tr>\n",
       "      <th>3</th>\n",
       "      <td>10655</td>\n",
       "      <td>9</td>\n",
       "      <td>0</td>\n",
       "      <td>0</td>\n",
       "      <td>1</td>\n",
       "      <td>20</td>\n",
       "      <td>4</td>\n",
       "      <td>40</td>\n",
       "      <td>0</td>\n",
       "      <td>0</td>\n",
       "      <td>...</td>\n",
       "      <td>0.180191</td>\n",
       "      <td>0.187882</td>\n",
       "      <td>0.033855</td>\n",
       "      <td>0</td>\n",
       "      <td>0</td>\n",
       "      <td>0</td>\n",
       "      <td>0.00000</td>\n",
       "      <td>0.0</td>\n",
       "      <td>0.0</td>\n",
       "      <td>0</td>\n",
       "    </tr>\n",
       "    <tr>\n",
       "      <th>4</th>\n",
       "      <td>10655</td>\n",
       "      <td>9</td>\n",
       "      <td>0</td>\n",
       "      <td>0</td>\n",
       "      <td>1</td>\n",
       "      <td>20</td>\n",
       "      <td>4</td>\n",
       "      <td>40</td>\n",
       "      <td>0</td>\n",
       "      <td>0</td>\n",
       "      <td>...</td>\n",
       "      <td>0.117308</td>\n",
       "      <td>0.153586</td>\n",
       "      <td>0.018017</td>\n",
       "      <td>0</td>\n",
       "      <td>0</td>\n",
       "      <td>0</td>\n",
       "      <td>0.00000</td>\n",
       "      <td>0.0</td>\n",
       "      <td>0.0</td>\n",
       "      <td>0</td>\n",
       "    </tr>\n",
       "    <tr>\n",
       "      <th>...</th>\n",
       "      <td>...</td>\n",
       "      <td>...</td>\n",
       "      <td>...</td>\n",
       "      <td>...</td>\n",
       "      <td>...</td>\n",
       "      <td>...</td>\n",
       "      <td>...</td>\n",
       "      <td>...</td>\n",
       "      <td>...</td>\n",
       "      <td>...</td>\n",
       "      <td>...</td>\n",
       "      <td>...</td>\n",
       "      <td>...</td>\n",
       "      <td>...</td>\n",
       "      <td>...</td>\n",
       "      <td>...</td>\n",
       "      <td>...</td>\n",
       "      <td>...</td>\n",
       "      <td>...</td>\n",
       "      <td>...</td>\n",
       "      <td>...</td>\n",
       "    </tr>\n",
       "    <tr>\n",
       "      <th>1524</th>\n",
       "      <td>493078</td>\n",
       "      <td>9</td>\n",
       "      <td>0</td>\n",
       "      <td>0</td>\n",
       "      <td>0</td>\n",
       "      <td>9</td>\n",
       "      <td>4</td>\n",
       "      <td>35</td>\n",
       "      <td>0</td>\n",
       "      <td>0</td>\n",
       "      <td>...</td>\n",
       "      <td>0.341683</td>\n",
       "      <td>0.067348</td>\n",
       "      <td>0.023012</td>\n",
       "      <td>0</td>\n",
       "      <td>0</td>\n",
       "      <td>0</td>\n",
       "      <td>0.46108</td>\n",
       "      <td>0.0</td>\n",
       "      <td>0.0</td>\n",
       "      <td>0</td>\n",
       "    </tr>\n",
       "    <tr>\n",
       "      <th>1525</th>\n",
       "      <td>493078</td>\n",
       "      <td>9</td>\n",
       "      <td>0</td>\n",
       "      <td>0</td>\n",
       "      <td>0</td>\n",
       "      <td>9</td>\n",
       "      <td>4</td>\n",
       "      <td>35</td>\n",
       "      <td>0</td>\n",
       "      <td>0</td>\n",
       "      <td>...</td>\n",
       "      <td>0.270293</td>\n",
       "      <td>0.049000</td>\n",
       "      <td>0.013244</td>\n",
       "      <td>0</td>\n",
       "      <td>0</td>\n",
       "      <td>0</td>\n",
       "      <td>0.03674</td>\n",
       "      <td>0.0</td>\n",
       "      <td>0.0</td>\n",
       "      <td>0</td>\n",
       "    </tr>\n",
       "    <tr>\n",
       "      <th>1526</th>\n",
       "      <td>493078</td>\n",
       "      <td>9</td>\n",
       "      <td>0</td>\n",
       "      <td>0</td>\n",
       "      <td>0</td>\n",
       "      <td>9</td>\n",
       "      <td>4</td>\n",
       "      <td>35</td>\n",
       "      <td>0</td>\n",
       "      <td>0</td>\n",
       "      <td>...</td>\n",
       "      <td>0.372268</td>\n",
       "      <td>0.069882</td>\n",
       "      <td>0.026015</td>\n",
       "      <td>0</td>\n",
       "      <td>0</td>\n",
       "      <td>0</td>\n",
       "      <td>0.14540</td>\n",
       "      <td>0.0</td>\n",
       "      <td>0.0</td>\n",
       "      <td>1</td>\n",
       "    </tr>\n",
       "    <tr>\n",
       "      <th>1527</th>\n",
       "      <td>493078</td>\n",
       "      <td>9</td>\n",
       "      <td>0</td>\n",
       "      <td>0</td>\n",
       "      <td>0</td>\n",
       "      <td>9</td>\n",
       "      <td>4</td>\n",
       "      <td>35</td>\n",
       "      <td>0</td>\n",
       "      <td>0</td>\n",
       "      <td>...</td>\n",
       "      <td>0.355755</td>\n",
       "      <td>0.077469</td>\n",
       "      <td>0.027560</td>\n",
       "      <td>0</td>\n",
       "      <td>0</td>\n",
       "      <td>0</td>\n",
       "      <td>0.21288</td>\n",
       "      <td>0.0</td>\n",
       "      <td>0.0</td>\n",
       "      <td>1</td>\n",
       "    </tr>\n",
       "    <tr>\n",
       "      <th>1528</th>\n",
       "      <td>493078</td>\n",
       "      <td>9</td>\n",
       "      <td>0</td>\n",
       "      <td>0</td>\n",
       "      <td>0</td>\n",
       "      <td>9</td>\n",
       "      <td>4</td>\n",
       "      <td>35</td>\n",
       "      <td>0</td>\n",
       "      <td>0</td>\n",
       "      <td>...</td>\n",
       "      <td>0.260349</td>\n",
       "      <td>0.068786</td>\n",
       "      <td>0.017908</td>\n",
       "      <td>0</td>\n",
       "      <td>0</td>\n",
       "      <td>0</td>\n",
       "      <td>0.20751</td>\n",
       "      <td>0.0</td>\n",
       "      <td>0.0</td>\n",
       "      <td>0</td>\n",
       "    </tr>\n",
       "  </tbody>\n",
       "</table>\n",
       "<p>1529 rows × 81 columns</p>\n",
       "</div>"
      ],
      "text/plain": [
       "      search_id  feature_0  feature_1  feature_2  feature_3  feature_4  \\\n",
       "0         10655          9          0          0          1         20   \n",
       "1         10655          9          0          0          1         20   \n",
       "2         10655          9          0          0          1         20   \n",
       "3         10655          9          0          0          1         20   \n",
       "4         10655          9          0          0          1         20   \n",
       "...         ...        ...        ...        ...        ...        ...   \n",
       "1524     493078          9          0          0          0          9   \n",
       "1525     493078          9          0          0          0          9   \n",
       "1526     493078          9          0          0          0          9   \n",
       "1527     493078          9          0          0          0          9   \n",
       "1528     493078          9          0          0          0          9   \n",
       "\n",
       "      feature_5  feature_6  feature_7  feature_8  ...  feature_70  feature_71  \\\n",
       "0             4         40          0          0  ...    0.148830    0.196644   \n",
       "1             4         40          0          0  ...    0.119724    0.174199   \n",
       "2             4         40          0          0  ...    0.160606    0.198780   \n",
       "3             4         40          0          0  ...    0.180191    0.187882   \n",
       "4             4         40          0          0  ...    0.117308    0.153586   \n",
       "...         ...        ...        ...        ...  ...         ...         ...   \n",
       "1524          4         35          0          0  ...    0.341683    0.067348   \n",
       "1525          4         35          0          0  ...    0.270293    0.049000   \n",
       "1526          4         35          0          0  ...    0.372268    0.069882   \n",
       "1527          4         35          0          0  ...    0.355755    0.077469   \n",
       "1528          4         35          0          0  ...    0.260349    0.068786   \n",
       "\n",
       "      feature_72  feature_73  feature_74  feature_75  feature_76  feature_77  \\\n",
       "0       0.029267           0           0           0     0.03674         0.0   \n",
       "1       0.020856           0           0           0     0.00000         0.0   \n",
       "2       0.031925           0           0           0     0.00000         0.0   \n",
       "3       0.033855           0           0           0     0.00000         0.0   \n",
       "4       0.018017           0           0           0     0.00000         0.0   \n",
       "...          ...         ...         ...         ...         ...         ...   \n",
       "1524    0.023012           0           0           0     0.46108         0.0   \n",
       "1525    0.013244           0           0           0     0.03674         0.0   \n",
       "1526    0.026015           0           0           0     0.14540         0.0   \n",
       "1527    0.027560           0           0           0     0.21288         0.0   \n",
       "1528    0.017908           0           0           0     0.20751         0.0   \n",
       "\n",
       "      feature_78  target  \n",
       "0            0.0       0  \n",
       "1            0.0       0  \n",
       "2            0.0       0  \n",
       "3            0.0       0  \n",
       "4            0.0       0  \n",
       "...          ...     ...  \n",
       "1524         0.0       0  \n",
       "1525         0.0       0  \n",
       "1526         0.0       1  \n",
       "1527         0.0       1  \n",
       "1528         0.0       0  \n",
       "\n",
       "[1529 rows x 81 columns]"
      ]
     },
     "metadata": {},
     "output_type": "display_data"
    }
   ],
   "source": [
    "display(train_df,test_df)"
   ]
  },
  {
   "cell_type": "code",
   "execution_count": 10,
   "metadata": {},
   "outputs": [
    {
     "data": {
      "text/plain": [
       "search_id\n",
       "156182    20\n",
       "8591      20\n",
       "226704    20\n",
       "227432    20\n",
       "315998    20\n",
       "          ..\n",
       "155433     1\n",
       "271166     1\n",
       "178343     1\n",
       "387764     1\n",
       "303366     1\n",
       "Name: count, Length: 1000, dtype: int64"
      ]
     },
     "execution_count": 10,
     "metadata": {},
     "output_type": "execute_result"
    }
   ],
   "source": [
    "train_df['search_id'].value_counts()"
   ]
  },
  {
   "cell_type": "code",
   "execution_count": 11,
   "metadata": {},
   "outputs": [
    {
     "data": {
      "text/plain": [
       "search_id\n",
       "333637    20\n",
       "381319    20\n",
       "434883    20\n",
       "356764    20\n",
       "480809    20\n",
       "          ..\n",
       "412165     4\n",
       "316202     4\n",
       "399604     4\n",
       "33453      2\n",
       "312348     1\n",
       "Name: count, Length: 100, dtype: int64"
      ]
     },
     "execution_count": 11,
     "metadata": {},
     "output_type": "execute_result"
    }
   ],
   "source": [
    "test_df['search_id'].value_counts()"
   ]
  },
  {
   "cell_type": "code",
   "execution_count": 12,
   "metadata": {},
   "outputs": [
    {
     "data": {
      "text/plain": [
       "set()"
      ]
     },
     "execution_count": 12,
     "metadata": {},
     "output_type": "execute_result"
    }
   ],
   "source": [
    "#есть ли пересечения групп в трейне и тесте\n",
    "set(test_df['search_id'].unique()) & set(train_df['search_id'].unique())"
   ]
  },
  {
   "cell_type": "code",
   "execution_count": 13,
   "metadata": {},
   "outputs": [
    {
     "data": {
      "text/plain": [
       "target\n",
       "0    14759\n",
       "1      322\n",
       "Name: count, dtype: int64"
      ]
     },
     "execution_count": 13,
     "metadata": {},
     "output_type": "execute_result"
    }
   ],
   "source": [
    "train_df['target'].value_counts()"
   ]
  },
  {
   "cell_type": "markdown",
   "metadata": {},
   "source": [
    "Смотрим, есть ли признаки с 0 дисперсией"
   ]
  },
  {
   "cell_type": "code",
   "execution_count": 14,
   "metadata": {},
   "outputs": [
    {
     "data": {
      "text/plain": [
       "['feature_0', 'feature_73', 'feature_74', 'feature_75']"
      ]
     },
     "execution_count": 14,
     "metadata": {},
     "output_type": "execute_result"
    }
   ],
   "source": [
    "cols_w_0_var_train = [col for col in train_df.columns if train_df.var()[col] == 0]\n",
    "cols_w_0_var_train"
   ]
  },
  {
   "cell_type": "code",
   "execution_count": 15,
   "metadata": {},
   "outputs": [
    {
     "data": {
      "text/plain": [
       "['feature_0', 'feature_73', 'feature_74', 'feature_75']"
      ]
     },
     "execution_count": 15,
     "metadata": {},
     "output_type": "execute_result"
    }
   ],
   "source": [
    "cols_w_0_var_test = [col for col in test_df.columns if test_df.var()[col] == 0]\n",
    "cols_w_0_var_test"
   ]
  },
  {
   "cell_type": "code",
   "execution_count": 16,
   "metadata": {},
   "outputs": [
    {
     "data": {
      "text/plain": [
       "feature_0     9.0\n",
       "feature_73    0.0\n",
       "feature_74    0.0\n",
       "feature_75    0.0\n",
       "Name: 0, dtype: float64"
      ]
     },
     "execution_count": 16,
     "metadata": {},
     "output_type": "execute_result"
    }
   ],
   "source": [
    "train_df.loc[0,cols_w_0_var_train]"
   ]
  },
  {
   "cell_type": "code",
   "execution_count": 17,
   "metadata": {},
   "outputs": [
    {
     "data": {
      "text/plain": [
       "feature_0     9.0\n",
       "feature_73    0.0\n",
       "feature_74    0.0\n",
       "feature_75    0.0\n",
       "Name: 0, dtype: float64"
      ]
     },
     "execution_count": 17,
     "metadata": {},
     "output_type": "execute_result"
    }
   ],
   "source": [
    "test_df.loc[0,cols_w_0_var_test]"
   ]
  },
  {
   "cell_type": "markdown",
   "metadata": {},
   "source": [
    "значения и там и там одинаковые -> можно удалять"
   ]
  },
  {
   "cell_type": "code",
   "execution_count": 18,
   "metadata": {},
   "outputs": [],
   "source": [
    "train_df = train_df.drop(cols_w_0_var_train,axis=1)\n",
    "test_df = test_df.drop(cols_w_0_var_test,axis=1)"
   ]
  },
  {
   "cell_type": "code",
   "execution_count": 19,
   "metadata": {},
   "outputs": [],
   "source": [
    "# plt.figure(figsize=(50,50))\n",
    "# corr_matrix = train_df.corr()\n",
    "# sns.heatmap(corr_matrix, annot=True, cmap='coolwarm', fmt='.2f')\n",
    "# plt.title('Матрица корреляций')\n",
    "# plt.savefig('../expirements/corr_person.png')"
   ]
  },
  {
   "cell_type": "code",
   "execution_count": 20,
   "metadata": {},
   "outputs": [],
   "source": [
    "# plt.figure(figsize=(50,50))\n",
    "# corr_matrix = train_df.corr('spearman')\n",
    "# sns.heatmap(corr_matrix, annot=True, cmap='coolwarm', fmt='.2f')\n",
    "# plt.title('Матрица корреляций')\n",
    "# plt.savefig('../expirements/corr_spearman.png')"
   ]
  },
  {
   "cell_type": "markdown",
   "metadata": {},
   "source": [
    "#### Удаление корреляций"
   ]
  },
  {
   "cell_type": "code",
   "execution_count": 21,
   "metadata": {},
   "outputs": [],
   "source": [
    "X = train_df.drop(['search_id','target'],axis =1)\n",
    "group_id = train_df['search_id']\n",
    "y = train_df['target']"
   ]
  },
  {
   "cell_type": "code",
   "execution_count": 22,
   "metadata": {},
   "outputs": [
    {
     "data": {
      "text/html": [
       "<div>\n",
       "<style scoped>\n",
       "    .dataframe tbody tr th:only-of-type {\n",
       "        vertical-align: middle;\n",
       "    }\n",
       "\n",
       "    .dataframe tbody tr th {\n",
       "        vertical-align: top;\n",
       "    }\n",
       "\n",
       "    .dataframe thead th {\n",
       "        text-align: right;\n",
       "    }\n",
       "</style>\n",
       "<table border=\"1\" class=\"dataframe\">\n",
       "  <thead>\n",
       "    <tr style=\"text-align: right;\">\n",
       "      <th></th>\n",
       "      <th>feature_1</th>\n",
       "      <th>feature_2</th>\n",
       "      <th>feature_3</th>\n",
       "      <th>feature_4</th>\n",
       "      <th>feature_5</th>\n",
       "      <th>feature_6</th>\n",
       "      <th>feature_7</th>\n",
       "      <th>feature_8</th>\n",
       "      <th>feature_9</th>\n",
       "      <th>feature_10</th>\n",
       "      <th>...</th>\n",
       "      <th>feature_66</th>\n",
       "      <th>feature_67</th>\n",
       "      <th>feature_68</th>\n",
       "      <th>feature_69</th>\n",
       "      <th>feature_70</th>\n",
       "      <th>feature_71</th>\n",
       "      <th>feature_72</th>\n",
       "      <th>feature_76</th>\n",
       "      <th>feature_77</th>\n",
       "      <th>feature_78</th>\n",
       "    </tr>\n",
       "  </thead>\n",
       "  <tbody>\n",
       "    <tr>\n",
       "      <th>feature_1</th>\n",
       "      <td>NaN</td>\n",
       "      <td>-0.017054</td>\n",
       "      <td>-0.054672</td>\n",
       "      <td>-0.054672</td>\n",
       "      <td>0.038106</td>\n",
       "      <td>0.045054</td>\n",
       "      <td>0.514021</td>\n",
       "      <td>0.222314</td>\n",
       "      <td>-0.013512</td>\n",
       "      <td>0.036547</td>\n",
       "      <td>...</td>\n",
       "      <td>-0.024909</td>\n",
       "      <td>0.036379</td>\n",
       "      <td>0.024205</td>\n",
       "      <td>-0.036493</td>\n",
       "      <td>0.023376</td>\n",
       "      <td>0.076516</td>\n",
       "      <td>0.101744</td>\n",
       "      <td>0.022636</td>\n",
       "      <td>-0.025528</td>\n",
       "      <td>-0.023964</td>\n",
       "    </tr>\n",
       "    <tr>\n",
       "      <th>feature_2</th>\n",
       "      <td>NaN</td>\n",
       "      <td>NaN</td>\n",
       "      <td>0.066014</td>\n",
       "      <td>0.066014</td>\n",
       "      <td>-0.008419</td>\n",
       "      <td>-0.024244</td>\n",
       "      <td>-0.051710</td>\n",
       "      <td>-0.048600</td>\n",
       "      <td>-0.004476</td>\n",
       "      <td>-0.003273</td>\n",
       "      <td>...</td>\n",
       "      <td>-0.020644</td>\n",
       "      <td>-0.010678</td>\n",
       "      <td>0.008217</td>\n",
       "      <td>0.184478</td>\n",
       "      <td>-0.026022</td>\n",
       "      <td>0.000258</td>\n",
       "      <td>-0.023006</td>\n",
       "      <td>-0.028082</td>\n",
       "      <td>-0.005987</td>\n",
       "      <td>-0.001722</td>\n",
       "    </tr>\n",
       "    <tr>\n",
       "      <th>feature_3</th>\n",
       "      <td>NaN</td>\n",
       "      <td>NaN</td>\n",
       "      <td>NaN</td>\n",
       "      <td>1.000000</td>\n",
       "      <td>-0.007873</td>\n",
       "      <td>0.017213</td>\n",
       "      <td>-0.057525</td>\n",
       "      <td>0.005045</td>\n",
       "      <td>0.005249</td>\n",
       "      <td>-0.016109</td>\n",
       "      <td>...</td>\n",
       "      <td>0.026314</td>\n",
       "      <td>0.018691</td>\n",
       "      <td>0.019376</td>\n",
       "      <td>0.035253</td>\n",
       "      <td>-0.050584</td>\n",
       "      <td>0.142552</td>\n",
       "      <td>0.077396</td>\n",
       "      <td>0.044092</td>\n",
       "      <td>0.022348</td>\n",
       "      <td>0.023254</td>\n",
       "    </tr>\n",
       "    <tr>\n",
       "      <th>feature_4</th>\n",
       "      <td>NaN</td>\n",
       "      <td>NaN</td>\n",
       "      <td>NaN</td>\n",
       "      <td>NaN</td>\n",
       "      <td>-0.007873</td>\n",
       "      <td>0.017213</td>\n",
       "      <td>-0.057525</td>\n",
       "      <td>0.005045</td>\n",
       "      <td>0.005249</td>\n",
       "      <td>-0.016109</td>\n",
       "      <td>...</td>\n",
       "      <td>0.026314</td>\n",
       "      <td>0.018691</td>\n",
       "      <td>0.019376</td>\n",
       "      <td>0.035253</td>\n",
       "      <td>-0.050584</td>\n",
       "      <td>0.142552</td>\n",
       "      <td>0.077396</td>\n",
       "      <td>0.044092</td>\n",
       "      <td>0.022348</td>\n",
       "      <td>0.023254</td>\n",
       "    </tr>\n",
       "    <tr>\n",
       "      <th>feature_5</th>\n",
       "      <td>NaN</td>\n",
       "      <td>NaN</td>\n",
       "      <td>NaN</td>\n",
       "      <td>NaN</td>\n",
       "      <td>NaN</td>\n",
       "      <td>-0.086111</td>\n",
       "      <td>0.065607</td>\n",
       "      <td>0.049628</td>\n",
       "      <td>-0.010910</td>\n",
       "      <td>0.016359</td>\n",
       "      <td>...</td>\n",
       "      <td>0.001226</td>\n",
       "      <td>0.020756</td>\n",
       "      <td>0.031695</td>\n",
       "      <td>0.018836</td>\n",
       "      <td>0.037763</td>\n",
       "      <td>0.064221</td>\n",
       "      <td>0.067338</td>\n",
       "      <td>0.029528</td>\n",
       "      <td>-0.051923</td>\n",
       "      <td>-0.046336</td>\n",
       "    </tr>\n",
       "    <tr>\n",
       "      <th>...</th>\n",
       "      <td>...</td>\n",
       "      <td>...</td>\n",
       "      <td>...</td>\n",
       "      <td>...</td>\n",
       "      <td>...</td>\n",
       "      <td>...</td>\n",
       "      <td>...</td>\n",
       "      <td>...</td>\n",
       "      <td>...</td>\n",
       "      <td>...</td>\n",
       "      <td>...</td>\n",
       "      <td>...</td>\n",
       "      <td>...</td>\n",
       "      <td>...</td>\n",
       "      <td>...</td>\n",
       "      <td>...</td>\n",
       "      <td>...</td>\n",
       "      <td>...</td>\n",
       "      <td>...</td>\n",
       "      <td>...</td>\n",
       "      <td>...</td>\n",
       "    </tr>\n",
       "    <tr>\n",
       "      <th>feature_71</th>\n",
       "      <td>NaN</td>\n",
       "      <td>NaN</td>\n",
       "      <td>NaN</td>\n",
       "      <td>NaN</td>\n",
       "      <td>NaN</td>\n",
       "      <td>NaN</td>\n",
       "      <td>NaN</td>\n",
       "      <td>NaN</td>\n",
       "      <td>NaN</td>\n",
       "      <td>NaN</td>\n",
       "      <td>...</td>\n",
       "      <td>NaN</td>\n",
       "      <td>NaN</td>\n",
       "      <td>NaN</td>\n",
       "      <td>NaN</td>\n",
       "      <td>NaN</td>\n",
       "      <td>NaN</td>\n",
       "      <td>0.900260</td>\n",
       "      <td>0.433373</td>\n",
       "      <td>0.017872</td>\n",
       "      <td>0.041132</td>\n",
       "    </tr>\n",
       "    <tr>\n",
       "      <th>feature_72</th>\n",
       "      <td>NaN</td>\n",
       "      <td>NaN</td>\n",
       "      <td>NaN</td>\n",
       "      <td>NaN</td>\n",
       "      <td>NaN</td>\n",
       "      <td>NaN</td>\n",
       "      <td>NaN</td>\n",
       "      <td>NaN</td>\n",
       "      <td>NaN</td>\n",
       "      <td>NaN</td>\n",
       "      <td>...</td>\n",
       "      <td>NaN</td>\n",
       "      <td>NaN</td>\n",
       "      <td>NaN</td>\n",
       "      <td>NaN</td>\n",
       "      <td>NaN</td>\n",
       "      <td>NaN</td>\n",
       "      <td>NaN</td>\n",
       "      <td>0.471807</td>\n",
       "      <td>0.035760</td>\n",
       "      <td>0.053233</td>\n",
       "    </tr>\n",
       "    <tr>\n",
       "      <th>feature_76</th>\n",
       "      <td>NaN</td>\n",
       "      <td>NaN</td>\n",
       "      <td>NaN</td>\n",
       "      <td>NaN</td>\n",
       "      <td>NaN</td>\n",
       "      <td>NaN</td>\n",
       "      <td>NaN</td>\n",
       "      <td>NaN</td>\n",
       "      <td>NaN</td>\n",
       "      <td>NaN</td>\n",
       "      <td>...</td>\n",
       "      <td>NaN</td>\n",
       "      <td>NaN</td>\n",
       "      <td>NaN</td>\n",
       "      <td>NaN</td>\n",
       "      <td>NaN</td>\n",
       "      <td>NaN</td>\n",
       "      <td>NaN</td>\n",
       "      <td>NaN</td>\n",
       "      <td>0.061974</td>\n",
       "      <td>0.076301</td>\n",
       "    </tr>\n",
       "    <tr>\n",
       "      <th>feature_77</th>\n",
       "      <td>NaN</td>\n",
       "      <td>NaN</td>\n",
       "      <td>NaN</td>\n",
       "      <td>NaN</td>\n",
       "      <td>NaN</td>\n",
       "      <td>NaN</td>\n",
       "      <td>NaN</td>\n",
       "      <td>NaN</td>\n",
       "      <td>NaN</td>\n",
       "      <td>NaN</td>\n",
       "      <td>...</td>\n",
       "      <td>NaN</td>\n",
       "      <td>NaN</td>\n",
       "      <td>NaN</td>\n",
       "      <td>NaN</td>\n",
       "      <td>NaN</td>\n",
       "      <td>NaN</td>\n",
       "      <td>NaN</td>\n",
       "      <td>NaN</td>\n",
       "      <td>NaN</td>\n",
       "      <td>0.967949</td>\n",
       "    </tr>\n",
       "    <tr>\n",
       "      <th>feature_78</th>\n",
       "      <td>NaN</td>\n",
       "      <td>NaN</td>\n",
       "      <td>NaN</td>\n",
       "      <td>NaN</td>\n",
       "      <td>NaN</td>\n",
       "      <td>NaN</td>\n",
       "      <td>NaN</td>\n",
       "      <td>NaN</td>\n",
       "      <td>NaN</td>\n",
       "      <td>NaN</td>\n",
       "      <td>...</td>\n",
       "      <td>NaN</td>\n",
       "      <td>NaN</td>\n",
       "      <td>NaN</td>\n",
       "      <td>NaN</td>\n",
       "      <td>NaN</td>\n",
       "      <td>NaN</td>\n",
       "      <td>NaN</td>\n",
       "      <td>NaN</td>\n",
       "      <td>NaN</td>\n",
       "      <td>NaN</td>\n",
       "    </tr>\n",
       "  </tbody>\n",
       "</table>\n",
       "<p>75 rows × 75 columns</p>\n",
       "</div>"
      ],
      "text/plain": [
       "            feature_1  feature_2  feature_3  feature_4  feature_5  feature_6  \\\n",
       "feature_1         NaN  -0.017054  -0.054672  -0.054672   0.038106   0.045054   \n",
       "feature_2         NaN        NaN   0.066014   0.066014  -0.008419  -0.024244   \n",
       "feature_3         NaN        NaN        NaN   1.000000  -0.007873   0.017213   \n",
       "feature_4         NaN        NaN        NaN        NaN  -0.007873   0.017213   \n",
       "feature_5         NaN        NaN        NaN        NaN        NaN  -0.086111   \n",
       "...               ...        ...        ...        ...        ...        ...   \n",
       "feature_71        NaN        NaN        NaN        NaN        NaN        NaN   \n",
       "feature_72        NaN        NaN        NaN        NaN        NaN        NaN   \n",
       "feature_76        NaN        NaN        NaN        NaN        NaN        NaN   \n",
       "feature_77        NaN        NaN        NaN        NaN        NaN        NaN   \n",
       "feature_78        NaN        NaN        NaN        NaN        NaN        NaN   \n",
       "\n",
       "            feature_7  feature_8  feature_9  feature_10  ...  feature_66  \\\n",
       "feature_1    0.514021   0.222314  -0.013512    0.036547  ...   -0.024909   \n",
       "feature_2   -0.051710  -0.048600  -0.004476   -0.003273  ...   -0.020644   \n",
       "feature_3   -0.057525   0.005045   0.005249   -0.016109  ...    0.026314   \n",
       "feature_4   -0.057525   0.005045   0.005249   -0.016109  ...    0.026314   \n",
       "feature_5    0.065607   0.049628  -0.010910    0.016359  ...    0.001226   \n",
       "...               ...        ...        ...         ...  ...         ...   \n",
       "feature_71        NaN        NaN        NaN         NaN  ...         NaN   \n",
       "feature_72        NaN        NaN        NaN         NaN  ...         NaN   \n",
       "feature_76        NaN        NaN        NaN         NaN  ...         NaN   \n",
       "feature_77        NaN        NaN        NaN         NaN  ...         NaN   \n",
       "feature_78        NaN        NaN        NaN         NaN  ...         NaN   \n",
       "\n",
       "            feature_67  feature_68  feature_69  feature_70  feature_71  \\\n",
       "feature_1     0.036379    0.024205   -0.036493    0.023376    0.076516   \n",
       "feature_2    -0.010678    0.008217    0.184478   -0.026022    0.000258   \n",
       "feature_3     0.018691    0.019376    0.035253   -0.050584    0.142552   \n",
       "feature_4     0.018691    0.019376    0.035253   -0.050584    0.142552   \n",
       "feature_5     0.020756    0.031695    0.018836    0.037763    0.064221   \n",
       "...                ...         ...         ...         ...         ...   \n",
       "feature_71         NaN         NaN         NaN         NaN         NaN   \n",
       "feature_72         NaN         NaN         NaN         NaN         NaN   \n",
       "feature_76         NaN         NaN         NaN         NaN         NaN   \n",
       "feature_77         NaN         NaN         NaN         NaN         NaN   \n",
       "feature_78         NaN         NaN         NaN         NaN         NaN   \n",
       "\n",
       "            feature_72  feature_76  feature_77  feature_78  \n",
       "feature_1     0.101744    0.022636   -0.025528   -0.023964  \n",
       "feature_2    -0.023006   -0.028082   -0.005987   -0.001722  \n",
       "feature_3     0.077396    0.044092    0.022348    0.023254  \n",
       "feature_4     0.077396    0.044092    0.022348    0.023254  \n",
       "feature_5     0.067338    0.029528   -0.051923   -0.046336  \n",
       "...                ...         ...         ...         ...  \n",
       "feature_71    0.900260    0.433373    0.017872    0.041132  \n",
       "feature_72         NaN    0.471807    0.035760    0.053233  \n",
       "feature_76         NaN         NaN    0.061974    0.076301  \n",
       "feature_77         NaN         NaN         NaN    0.967949  \n",
       "feature_78         NaN         NaN         NaN         NaN  \n",
       "\n",
       "[75 rows x 75 columns]"
      ]
     },
     "execution_count": 22,
     "metadata": {},
     "output_type": "execute_result"
    }
   ],
   "source": [
    "corr_f = X.corr()\n",
    "upper = corr_f.where(np.triu(np.ones(corr_f.shape), k=1).astype(bool))\n",
    "upper"
   ]
  },
  {
   "cell_type": "code",
   "execution_count": 23,
   "metadata": {},
   "outputs": [
    {
     "data": {
      "text/plain": [
       "9"
      ]
     },
     "execution_count": 23,
     "metadata": {},
     "output_type": "execute_result"
    }
   ],
   "source": [
    "to_drop = [column for column in upper.columns if any(upper[column] > 0.85)]\n",
    "len(to_drop)"
   ]
  },
  {
   "cell_type": "code",
   "execution_count": 24,
   "metadata": {},
   "outputs": [],
   "source": [
    "corr_features = X[to_drop]"
   ]
  },
  {
   "cell_type": "code",
   "execution_count": 25,
   "metadata": {},
   "outputs": [
    {
     "data": {
      "text/plain": [
       "(15081, 66)"
      ]
     },
     "execution_count": 25,
     "metadata": {},
     "output_type": "execute_result"
    }
   ],
   "source": [
    "X_1 = X.drop(to_drop,axis = 1)\n",
    "X_1.shape"
   ]
  },
  {
   "cell_type": "markdown",
   "metadata": {},
   "source": [
    "#### Сплит"
   ]
  },
  {
   "cell_type": "code",
   "execution_count": 26,
   "metadata": {},
   "outputs": [
    {
     "data": {
      "text/plain": [
       "11306    138696\n",
       "11307    138696\n",
       "11308    138696\n",
       "11309    139380\n",
       "11310    139380\n",
       "11311    139380\n",
       "11312    139380\n",
       "11313    139380\n",
       "11314    139380\n",
       "11315    139380\n",
       "Name: search_id, dtype: int64"
      ]
     },
     "execution_count": 26,
     "metadata": {},
     "output_type": "execute_result"
    }
   ],
   "source": [
    "group_id[round(len(group_id)*0.75)-5:round(len(group_id)*0.75)+5]"
   ]
  },
  {
   "cell_type": "markdown",
   "metadata": {},
   "source": [
    "разбиваем по 11309"
   ]
  },
  {
   "cell_type": "code",
   "execution_count": 27,
   "metadata": {},
   "outputs": [],
   "source": [
    "X_train = X_1[:11309]\n",
    "X_val = X_1[11309:]\n",
    "y_train = y[:11309]\n",
    "y_val = y[11309:]\n",
    "group_id_train = group_id[:11309]\n",
    "group_id_val = group_id[11309:]"
   ]
  },
  {
   "cell_type": "markdown",
   "metadata": {},
   "source": [
    "#### Нормализация"
   ]
  },
  {
   "cell_type": "code",
   "execution_count": 28,
   "metadata": {},
   "outputs": [],
   "source": [
    "from sklearn.preprocessing import StandardScaler"
   ]
  },
  {
   "cell_type": "code",
   "execution_count": 29,
   "metadata": {},
   "outputs": [],
   "source": [
    "normalizer = StandardScaler()\n",
    "X_train_norm = normalizer.fit_transform(X_train)\n",
    "X_val_norm = normalizer.transform(X_val)"
   ]
  },
  {
   "cell_type": "code",
   "execution_count": 30,
   "metadata": {},
   "outputs": [],
   "source": [
    "X_train_norm = pd.DataFrame(X_train_norm,columns=X_train.columns)\n",
    "X_val_norm = pd.DataFrame(X_val_norm,columns=X_val.columns)"
   ]
  },
  {
   "cell_type": "code",
   "execution_count": 31,
   "metadata": {},
   "outputs": [],
   "source": [
    "train_pool = Pool(\n",
    "    data=X_train_norm.values,\n",
    "    label=y_train.values,\n",
    "    group_id = group_id_train,\n",
    ")\n",
    "\n",
    "val_pool = Pool(\n",
    "    data=X_val_norm.values,\n",
    "    label=y_val.values,\n",
    "    group_id = group_id_val,\n",
    ")"
   ]
  },
  {
   "cell_type": "code",
   "execution_count": 32,
   "metadata": {},
   "outputs": [
    {
     "data": {
      "text/plain": [
       "[0, 18, 14, 20, 14]"
      ]
     },
     "execution_count": 32,
     "metadata": {},
     "output_type": "execute_result"
    }
   ],
   "source": [
    "group_interval_val = [0]\n",
    "group_interval_val.extend(pd.DataFrame(group_id_val).groupby('search_id').agg({'search_id':'count'}).values.reshape(1,-1)[0].tolist())\n",
    "group_interval_val[:5]"
   ]
  },
  {
   "cell_type": "code",
   "execution_count": 33,
   "metadata": {},
   "outputs": [
    {
     "data": {
      "text/plain": [
       "[0, 18, 32, 52, 66]"
      ]
     },
     "execution_count": 33,
     "metadata": {},
     "output_type": "execute_result"
    }
   ],
   "source": [
    "for i in range(1,len(group_interval_val)):\n",
    "    group_interval_val[i] +=group_interval_val[i-1]\n",
    "group_interval_val[:5]"
   ]
  },
  {
   "cell_type": "markdown",
   "metadata": {},
   "source": [
    "---"
   ]
  },
  {
   "cell_type": "markdown",
   "metadata": {},
   "source": [
    "## Модели"
   ]
  },
  {
   "cell_type": "markdown",
   "metadata": {},
   "source": [
    "### CatBoost"
   ]
  },
  {
   "cell_type": "markdown",
   "metadata": {},
   "source": [
    "#### Classifier"
   ]
  },
  {
   "cell_type": "code",
   "execution_count": 34,
   "metadata": {},
   "outputs": [],
   "source": [
    "params = parameters = {\n",
    "    'iterations': 2000,\n",
    "    'verbose': True,\n",
    "    'random_seed': 42,\n",
    "    'eval_metric': 'AUC',\n",
    "    'od_wait': 20,\n",
    "    'learning_rate': 1e-2,\n",
    "    'l2_leaf_reg': 1e-1,\n",
    "    'max_depth': 12,\n",
    "    'od_type' : 'Iter',\n",
    "    'auto_class_weights': 'Balanced',\n",
    "}"
   ]
  },
  {
   "cell_type": "code",
   "execution_count": 35,
   "metadata": {},
   "outputs": [],
   "source": [
    "gbc = CatBoostClassifier(**params)"
   ]
  },
  {
   "cell_type": "code",
   "execution_count": null,
   "metadata": {},
   "outputs": [],
   "source": [
    "gbc.fit(train_pool, eval_set=val_pool, plot=False)"
   ]
  },
  {
   "cell_type": "code",
   "execution_count": 37,
   "metadata": {},
   "outputs": [
    {
     "data": {
      "text/plain": [
       "array([0, 0, 0, ..., 0, 0, 0], dtype=int64)"
      ]
     },
     "execution_count": 37,
     "metadata": {},
     "output_type": "execute_result"
    }
   ],
   "source": [
    "preds_gbc = gbc.predict(val_pool)\n",
    "preds_gbc"
   ]
  },
  {
   "cell_type": "code",
   "execution_count": 39,
   "metadata": {},
   "outputs": [
    {
     "data": {
      "text/plain": [
       "preds\n",
       "0        0.999205\n",
       "1        0.000795\n",
       "Name: proportion, dtype: float64"
      ]
     },
     "execution_count": 39,
     "metadata": {},
     "output_type": "execute_result"
    }
   ],
   "source": [
    "pd.DataFrame(preds_gbc,columns=['preds']).value_counts(normalize=True)"
   ]
  },
  {
   "cell_type": "code",
   "execution_count": 41,
   "metadata": {},
   "outputs": [],
   "source": [
    "y_true = []\n",
    "y_score = []\n",
    "for i in range(1,len(group_interval_val)):\n",
    "    y_true_i = y_val[group_interval_val[i-1]:group_interval_val[i]].values.tolist()\n",
    "    y_true.append(y_true_i)\n",
    "    y_score_i = preds_gbc[group_interval_val[i-1]:group_interval_val[i]].tolist()\n",
    "    y_score.append(y_score_i)"
   ]
  },
  {
   "cell_type": "code",
   "execution_count": 42,
   "metadata": {},
   "outputs": [
    {
     "name": "stdout",
     "output_type": "stream",
     "text": [
      "Тестовый NDCG(0): 0.11034904014237581\n",
      "Тестовый NDCG(1): 0.875781138907808\n",
      "Тестовый NDCG(ignore): 0.4704353816596022\n"
     ]
    }
   ],
   "source": [
    "print('Тестовый NDCG(0): {}'.format(ndcg_score(y_true,y_score,0)))\n",
    "print('Тестовый NDCG(1): {}'.format(ndcg_score(y_true,y_score,1)))\n",
    "print('Тестовый NDCG(ignore): {}'.format(ndcg_score(y_true,y_score,'ignore')))"
   ]
  },
  {
   "cell_type": "code",
   "execution_count": 43,
   "metadata": {},
   "outputs": [
    {
     "data": {
      "text/plain": [
       "0.4715766796517793"
      ]
     },
     "execution_count": 43,
     "metadata": {},
     "output_type": "execute_result"
    }
   ],
   "source": [
    "ndcg_score([y_val.values],[preds_gbc])"
   ]
  },
  {
   "cell_type": "markdown",
   "metadata": {},
   "source": [
    "#### YetiRank"
   ]
  },
  {
   "cell_type": "code",
   "execution_count": 114,
   "metadata": {},
   "outputs": [],
   "source": [
    "parameters = {\n",
    "    'iterations': 2000,\n",
    "    'custom_metric': ['NDCG'],\n",
    "    'verbose': True,\n",
    "    'loss_function' : 'YetiRank',\n",
    "    'random_seed': 42,\n",
    "    'learning_rate': 3e-1,\n",
    "    'l2_leaf_reg': 1e-1,\n",
    "    'max_depth': 12,\n",
    "    'od_wait': 20,\n",
    "    'od_type' : 'Iter',\n",
    "}"
   ]
  },
  {
   "cell_type": "code",
   "execution_count": 115,
   "metadata": {},
   "outputs": [],
   "source": [
    "gbr = CatBoostRanker(**parameters)"
   ]
  },
  {
   "cell_type": "code",
   "execution_count": null,
   "metadata": {},
   "outputs": [],
   "source": [
    "gbr.fit(train_pool, eval_set=val_pool, plot=False)"
   ]
  },
  {
   "cell_type": "code",
   "execution_count": 117,
   "metadata": {},
   "outputs": [],
   "source": [
    "gbr.shrink(35)"
   ]
  },
  {
   "cell_type": "code",
   "execution_count": 118,
   "metadata": {},
   "outputs": [],
   "source": [
    "preds_gbr = gbr.predict(val_pool)"
   ]
  },
  {
   "cell_type": "code",
   "execution_count": 119,
   "metadata": {},
   "outputs": [],
   "source": [
    "y_score_r = []\n",
    "for i in range(1,len(group_interval_val)):\n",
    "    y_score_i = preds_gbr[group_interval_val[i-1]:group_interval_val[i]].tolist()\n",
    "    y_score_r.append(y_score_i)"
   ]
  },
  {
   "cell_type": "code",
   "execution_count": 120,
   "metadata": {},
   "outputs": [
    {
     "data": {
      "text/plain": [
       "[0.8843090888402785]"
      ]
     },
     "execution_count": 120,
     "metadata": {},
     "output_type": "execute_result"
    }
   ],
   "source": [
    "eval_metric(y_val.values,preds_gbr,'NDCG',group_id=group_id_val.values)"
   ]
  },
  {
   "cell_type": "code",
   "execution_count": 121,
   "metadata": {},
   "outputs": [
    {
     "name": "stdout",
     "output_type": "stream",
     "text": [
      "Тестовый NDCG(0): 0.11887699007484646\n",
      "Тестовый NDCG(1): 0.8843090888402786\n",
      "Тестовый NDCG(ignore): 0.5067913787401348\n"
     ]
    }
   ],
   "source": [
    "print('Тестовый NDCG(0): {}'.format(ndcg_score(y_true,y_score_r,0)))\n",
    "print('Тестовый NDCG(1): {}'.format(ndcg_score(y_true,y_score_r,1))) #как стоковая метрика в катбусте\n",
    "print('Тестовый NDCG(ignore): {}'.format(ndcg_score(y_true,y_score_r,'ignore')))"
   ]
  },
  {
   "cell_type": "code",
   "execution_count": 122,
   "metadata": {},
   "outputs": [
    {
     "data": {
      "text/plain": [
       "0.47048664643527544"
      ]
     },
     "execution_count": 122,
     "metadata": {},
     "output_type": "execute_result"
    }
   ],
   "source": [
    "ndcg_score([y_val.values],[preds_gbr])"
   ]
  },
  {
   "cell_type": "markdown",
   "metadata": {},
   "source": [
    "---"
   ]
  },
  {
   "cell_type": "code",
   "execution_count": 125,
   "metadata": {},
   "outputs": [],
   "source": [
    "f_imp = gbr.get_feature_importance(train_pool,type='FeatureImportance')"
   ]
  },
  {
   "cell_type": "code",
   "execution_count": 127,
   "metadata": {},
   "outputs": [
    {
     "data": {
      "text/plain": [
       "['feature_1',\n",
       " 'feature_2',\n",
       " 'feature_5',\n",
       " 'feature_9',\n",
       " 'feature_12',\n",
       " 'feature_14',\n",
       " 'feature_15',\n",
       " 'feature_18',\n",
       " 'feature_23',\n",
       " 'feature_36']"
      ]
     },
     "execution_count": 127,
     "metadata": {},
     "output_type": "execute_result"
    }
   ],
   "source": [
    "usless_f = list(X_train_norm.columns[f_imp == 0])\n",
    "usless_f"
   ]
  },
  {
   "cell_type": "code",
   "execution_count": 129,
   "metadata": {},
   "outputs": [],
   "source": [
    "X_train_norm_ = X_train_norm.drop(usless_f,axis=1)\n",
    "X_val_norm_ = X_val_norm.drop(usless_f,axis=1)"
   ]
  },
  {
   "cell_type": "code",
   "execution_count": 131,
   "metadata": {},
   "outputs": [],
   "source": [
    "train_pool_ = Pool(\n",
    "    data=X_train_norm_.values,\n",
    "    label=y_train.values,\n",
    "    group_id = group_id_train,\n",
    ")\n",
    "\n",
    "val_pool_ = Pool(\n",
    "    data=X_val_norm_.values,\n",
    "    label=y_val.values,\n",
    "    group_id = group_id_val,\n",
    ")"
   ]
  },
  {
   "cell_type": "code",
   "execution_count": 132,
   "metadata": {},
   "outputs": [],
   "source": [
    "gbr = CatBoostRanker(**parameters)"
   ]
  },
  {
   "cell_type": "code",
   "execution_count": null,
   "metadata": {},
   "outputs": [],
   "source": [
    "gbr.fit(train_pool_, eval_set=val_pool_, plot=False)"
   ]
  },
  {
   "cell_type": "code",
   "execution_count": 134,
   "metadata": {},
   "outputs": [],
   "source": [
    "gbr.shrink(25)"
   ]
  },
  {
   "cell_type": "code",
   "execution_count": 135,
   "metadata": {},
   "outputs": [],
   "source": [
    "preds_gbr = gbr.predict(val_pool)"
   ]
  },
  {
   "cell_type": "code",
   "execution_count": 136,
   "metadata": {},
   "outputs": [],
   "source": [
    "y_score_r = []\n",
    "for i in range(1,len(group_interval_val)):\n",
    "    y_score_i = preds_gbr[group_interval_val[i-1]:group_interval_val[i]].tolist()\n",
    "    y_score_r.append(y_score_i)"
   ]
  },
  {
   "cell_type": "code",
   "execution_count": 137,
   "metadata": {},
   "outputs": [
    {
     "name": "stdout",
     "output_type": "stream",
     "text": [
      "Тестовый NDCG(0): 0.10667721200480482\n",
      "Тестовый NDCG(1): 0.8721093107702369\n",
      "Тестовый NDCG(ignore): 0.45478179854679945\n"
     ]
    }
   ],
   "source": [
    "print('Тестовый NDCG(0): {}'.format(ndcg_score(y_true,y_score_r,0)))\n",
    "print('Тестовый NDCG(1): {}'.format(ndcg_score(y_true,y_score_r,1))) #как стоковая метрика в катбусте\n",
    "print('Тестовый NDCG(ignore): {}'.format(ndcg_score(y_true,y_score_r,'ignore')))"
   ]
  },
  {
   "cell_type": "code",
   "execution_count": 138,
   "metadata": {},
   "outputs": [
    {
     "data": {
      "text/plain": [
       "0.465386880768941"
      ]
     },
     "execution_count": 138,
     "metadata": {},
     "output_type": "execute_result"
    }
   ],
   "source": [
    "ndcg_score([y_val.values],[preds_gbr])"
   ]
  },
  {
   "cell_type": "markdown",
   "metadata": {},
   "source": [
    "стало хуже, так что удалять не будем"
   ]
  },
  {
   "cell_type": "markdown",
   "metadata": {},
   "source": [
    "#### RandomForestClassifier"
   ]
  },
  {
   "cell_type": "markdown",
   "metadata": {},
   "source": [
    "посчитать вот такой ndsg для дерева"
   ]
  },
  {
   "cell_type": "code",
   "execution_count": 215,
   "metadata": {},
   "outputs": [],
   "source": [
    "import pickle\n",
    "with open('../expirements/rfc.pkl','rb') as f:\n",
    "    rfc = pickle.load(f)"
   ]
  },
  {
   "cell_type": "code",
   "execution_count": 216,
   "metadata": {},
   "outputs": [],
   "source": [
    "preds_rfc = rfc.predict(X_val_norm)"
   ]
  },
  {
   "cell_type": "code",
   "execution_count": 217,
   "metadata": {},
   "outputs": [],
   "source": [
    "y_score_t = []\n",
    "for i in range(1,len(group_interval_val)):\n",
    "    y_score_i = preds_rfc[group_interval_val[i-1]:group_interval_val[i]]\n",
    "    y_score_t.append(y_score_i)"
   ]
  },
  {
   "cell_type": "code",
   "execution_count": 218,
   "metadata": {},
   "outputs": [
    {
     "name": "stdout",
     "output_type": "stream",
     "text": [
      "Тестовый NDCG(0): 0.14755352003028288\n",
      "Тестовый NDCG(1): 0.912985618795715\n",
      "Тестовый NDCG(ignore): 0.6290439538133114\n"
     ]
    }
   ],
   "source": [
    "print('Тестовый NDCG(0): {}'.format(ndcg_score(y_true,y_score_t,0)))\n",
    "print('Тестовый NDCG(1): {}'.format(ndcg_score(y_true,y_score_t,1)))\n",
    "print('Тестовый NDCG(ignore): {}'.format(ndcg_score(y_true,y_score_t,'ignore')))"
   ]
  },
  {
   "cell_type": "code",
   "execution_count": 219,
   "metadata": {},
   "outputs": [
    {
     "data": {
      "text/plain": [
       "0.6963087739918126"
      ]
     },
     "execution_count": 219,
     "metadata": {},
     "output_type": "execute_result"
    }
   ],
   "source": [
    "ndcg_score([y_val.values],[preds_rfc])"
   ]
  },
  {
   "cell_type": "code",
   "execution_count": 220,
   "metadata": {},
   "outputs": [
    {
     "data": {
      "text/plain": [
       "0.5031785974726114"
      ]
     },
     "execution_count": 220,
     "metadata": {},
     "output_type": "execute_result"
    }
   ],
   "source": [
    "ndcg_score([y_val.values],[np.zeros_like(y_val.values)])"
   ]
  },
  {
   "cell_type": "code",
   "execution_count": 221,
   "metadata": {},
   "outputs": [],
   "source": [
    "y_zeros = []\n",
    "for i in range(len(y_true)):\n",
    "    group = [0 for j in range(len(y_true[i]))]\n",
    "    y_zeros.append(group)"
   ]
  },
  {
   "cell_type": "code",
   "execution_count": 222,
   "metadata": {},
   "outputs": [
    {
     "name": "stdout",
     "output_type": "stream",
     "text": [
      "Тестовый NDCG(0): 0.11034904014237581\n",
      "Тестовый NDCG(1): 0.875781138907808\n",
      "Тестовый NDCG(ignore): 0.4704353816596022\n"
     ]
    }
   ],
   "source": [
    "print('Тестовый NDCG(0): {}'.format(ndcg_score(y_true,y_zeros,0)))\n",
    "print('Тестовый NDCG(1): {}'.format(ndcg_score(y_true,y_zeros,1)))\n",
    "print('Тестовый NDCG(ignore): {}'.format(ndcg_score(y_true,y_zeros,'ignore')))"
   ]
  },
  {
   "cell_type": "markdown",
   "metadata": {},
   "source": [
    "### lgbm"
   ]
  },
  {
   "cell_type": "code",
   "execution_count": 139,
   "metadata": {},
   "outputs": [],
   "source": [
    "from lightgbm import LGBMRanker"
   ]
  },
  {
   "cell_type": "code",
   "execution_count": null,
   "metadata": {},
   "outputs": [],
   "source": [
    "group_in_val = pd.DataFrame(group_id_val).groupby('search_id').agg({'search_id':'count'}).values.reshape(1,-1)[0].tolist()\n",
    "group_in_train = pd.DataFrame(group_id_train).groupby('search_id').agg({'search_id':'count'}).values.reshape(1,-1)[0].tolist()"
   ]
  },
  {
   "cell_type": "code",
   "execution_count": 207,
   "metadata": {},
   "outputs": [],
   "source": [
    "lgbm = LGBMRanker(class_weight = 'balanced',random_state=42,n_jobs = -1,n_estimators=150)"
   ]
  },
  {
   "cell_type": "code",
   "execution_count": 208,
   "metadata": {},
   "outputs": [
    {
     "name": "stdout",
     "output_type": "stream",
     "text": [
      "[LightGBM] [Info] Calculating query weights...\n",
      "[LightGBM] [Info] Auto-choosing col-wise multi-threading, the overhead of testing was 0.003862 seconds.\n",
      "You can set `force_col_wise=true` to remove the overhead.\n",
      "[LightGBM] [Info] Total Bins 10717\n",
      "[LightGBM] [Info] Number of data points in the train set: 11309, number of used features: 66\n"
     ]
    },
    {
     "data": {
      "text/html": [
       "<style>#sk-container-id-9 {color: black;}#sk-container-id-9 pre{padding: 0;}#sk-container-id-9 div.sk-toggleable {background-color: white;}#sk-container-id-9 label.sk-toggleable__label {cursor: pointer;display: block;width: 100%;margin-bottom: 0;padding: 0.3em;box-sizing: border-box;text-align: center;}#sk-container-id-9 label.sk-toggleable__label-arrow:before {content: \"▸\";float: left;margin-right: 0.25em;color: #696969;}#sk-container-id-9 label.sk-toggleable__label-arrow:hover:before {color: black;}#sk-container-id-9 div.sk-estimator:hover label.sk-toggleable__label-arrow:before {color: black;}#sk-container-id-9 div.sk-toggleable__content {max-height: 0;max-width: 0;overflow: hidden;text-align: left;background-color: #f0f8ff;}#sk-container-id-9 div.sk-toggleable__content pre {margin: 0.2em;color: black;border-radius: 0.25em;background-color: #f0f8ff;}#sk-container-id-9 input.sk-toggleable__control:checked~div.sk-toggleable__content {max-height: 200px;max-width: 100%;overflow: auto;}#sk-container-id-9 input.sk-toggleable__control:checked~label.sk-toggleable__label-arrow:before {content: \"▾\";}#sk-container-id-9 div.sk-estimator input.sk-toggleable__control:checked~label.sk-toggleable__label {background-color: #d4ebff;}#sk-container-id-9 div.sk-label input.sk-toggleable__control:checked~label.sk-toggleable__label {background-color: #d4ebff;}#sk-container-id-9 input.sk-hidden--visually {border: 0;clip: rect(1px 1px 1px 1px);clip: rect(1px, 1px, 1px, 1px);height: 1px;margin: -1px;overflow: hidden;padding: 0;position: absolute;width: 1px;}#sk-container-id-9 div.sk-estimator {font-family: monospace;background-color: #f0f8ff;border: 1px dotted black;border-radius: 0.25em;box-sizing: border-box;margin-bottom: 0.5em;}#sk-container-id-9 div.sk-estimator:hover {background-color: #d4ebff;}#sk-container-id-9 div.sk-parallel-item::after {content: \"\";width: 100%;border-bottom: 1px solid gray;flex-grow: 1;}#sk-container-id-9 div.sk-label:hover label.sk-toggleable__label {background-color: #d4ebff;}#sk-container-id-9 div.sk-serial::before {content: \"\";position: absolute;border-left: 1px solid gray;box-sizing: border-box;top: 0;bottom: 0;left: 50%;z-index: 0;}#sk-container-id-9 div.sk-serial {display: flex;flex-direction: column;align-items: center;background-color: white;padding-right: 0.2em;padding-left: 0.2em;position: relative;}#sk-container-id-9 div.sk-item {position: relative;z-index: 1;}#sk-container-id-9 div.sk-parallel {display: flex;align-items: stretch;justify-content: center;background-color: white;position: relative;}#sk-container-id-9 div.sk-item::before, #sk-container-id-9 div.sk-parallel-item::before {content: \"\";position: absolute;border-left: 1px solid gray;box-sizing: border-box;top: 0;bottom: 0;left: 50%;z-index: -1;}#sk-container-id-9 div.sk-parallel-item {display: flex;flex-direction: column;z-index: 1;position: relative;background-color: white;}#sk-container-id-9 div.sk-parallel-item:first-child::after {align-self: flex-end;width: 50%;}#sk-container-id-9 div.sk-parallel-item:last-child::after {align-self: flex-start;width: 50%;}#sk-container-id-9 div.sk-parallel-item:only-child::after {width: 0;}#sk-container-id-9 div.sk-dashed-wrapped {border: 1px dashed gray;margin: 0 0.4em 0.5em 0.4em;box-sizing: border-box;padding-bottom: 0.4em;background-color: white;}#sk-container-id-9 div.sk-label label {font-family: monospace;font-weight: bold;display: inline-block;line-height: 1.2em;}#sk-container-id-9 div.sk-label-container {text-align: center;}#sk-container-id-9 div.sk-container {/* jupyter's `normalize.less` sets `[hidden] { display: none; }` but bootstrap.min.css set `[hidden] { display: none !important; }` so we also need the `!important` here to be able to override the default hidden behavior on the sphinx rendered scikit-learn.org. See: https://github.com/scikit-learn/scikit-learn/issues/21755 */display: inline-block !important;position: relative;}#sk-container-id-9 div.sk-text-repr-fallback {display: none;}</style><div id=\"sk-container-id-9\" class=\"sk-top-container\"><div class=\"sk-text-repr-fallback\"><pre>LGBMRanker(class_weight=&#x27;balanced&#x27;, n_estimators=150, n_jobs=-1,\n",
       "           random_state=42)</pre><b>In a Jupyter environment, please rerun this cell to show the HTML representation or trust the notebook. <br />On GitHub, the HTML representation is unable to render, please try loading this page with nbviewer.org.</b></div><div class=\"sk-container\" hidden><div class=\"sk-item\"><div class=\"sk-estimator sk-toggleable\"><input class=\"sk-toggleable__control sk-hidden--visually\" id=\"sk-estimator-id-9\" type=\"checkbox\" checked><label for=\"sk-estimator-id-9\" class=\"sk-toggleable__label sk-toggleable__label-arrow\">LGBMRanker</label><div class=\"sk-toggleable__content\"><pre>LGBMRanker(class_weight=&#x27;balanced&#x27;, n_estimators=150, n_jobs=-1,\n",
       "           random_state=42)</pre></div></div></div></div></div>"
      ],
      "text/plain": [
       "LGBMRanker(class_weight='balanced', n_estimators=150, n_jobs=-1,\n",
       "           random_state=42)"
      ]
     },
     "execution_count": 208,
     "metadata": {},
     "output_type": "execute_result"
    }
   ],
   "source": [
    "lgbm.fit(X_train_norm,y_train,group=group_in_train)"
   ]
  },
  {
   "cell_type": "code",
   "execution_count": 209,
   "metadata": {},
   "outputs": [],
   "source": [
    "preds_lgbm = lgbm.predict(X_val_norm)"
   ]
  },
  {
   "cell_type": "code",
   "execution_count": 210,
   "metadata": {},
   "outputs": [],
   "source": [
    "y_score_l = []\n",
    "for i in range(1,len(group_interval_val)):\n",
    "    y_score_i = preds_lgbm[group_interval_val[i-1]:group_interval_val[i]]\n",
    "    y_score_l.append(y_score_i)"
   ]
  },
  {
   "cell_type": "code",
   "execution_count": 211,
   "metadata": {},
   "outputs": [
    {
     "name": "stdout",
     "output_type": "stream",
     "text": [
      "Тестовый NDCG(0): 0.11785787505170782\n",
      "Тестовый NDCG(1): 0.8832899738171399\n",
      "Тестовый NDCG(ignore): 0.5024467304835966\n"
     ]
    }
   ],
   "source": [
    "print('Тестовый NDCG(0): {}'.format(ndcg_score(y_true,y_score_l,0)))\n",
    "print('Тестовый NDCG(1): {}'.format(ndcg_score(y_true,y_score_l,1)))\n",
    "print('Тестовый NDCG(ignore): {}'.format(ndcg_score(y_true,y_score_l,'ignore')))"
   ]
  },
  {
   "cell_type": "code",
   "execution_count": 212,
   "metadata": {},
   "outputs": [
    {
     "data": {
      "text/plain": [
       "0.4982023500464655"
      ]
     },
     "execution_count": 212,
     "metadata": {},
     "output_type": "execute_result"
    }
   ],
   "source": [
    "ndcg_score([y_val.values],[preds_lgbm])"
   ]
  },
  {
   "cell_type": "code",
   "execution_count": 213,
   "metadata": {},
   "outputs": [],
   "source": [
    "index_col = ['Constant_classifier','CatBoostClassifier','CatBoostRanker','LGBMRanker','RandomForestClassifier']"
   ]
  },
  {
   "cell_type": "code",
   "execution_count": 226,
   "metadata": {},
   "outputs": [],
   "source": [
    "ndsg_0 = [ndcg_score(y_true,y_zeros,0),ndcg_score(y_true,y_score,0),ndcg_score(y_true,y_score_r,0),ndcg_score(y_true,y_score_l,0),ndcg_score(y_true,y_score_t,0)]\n",
    "ndsg_1 = [ndcg_score(y_true,y_zeros,1),ndcg_score(y_true,y_score,1),ndcg_score(y_true,y_score_r,1),ndcg_score(y_true,y_score_l,1),ndcg_score(y_true,y_score_t,1)]\n",
    "ndsg_ignore = [ndcg_score(y_true,y_zeros,'ignore'),ndcg_score(y_true,y_score,'ignore'),ndcg_score(y_true,y_score_r,'ignore'),ndcg_score(y_true,y_score_l,'ignore'),ndcg_score(y_true,y_score_t,'ignore')]\n",
    "ndsg_all = [ndcg_score([y_val.values],[np.zeros_like(y_val.values)]),ndcg_score([y_val.values],[preds_gbc]),ndcg_score([y_val.values],[preds_gbr]),ndcg_score([y_val.values],[preds_lgbm]),ndcg_score([y_val.values],[preds_rfc])]"
   ]
  },
  {
   "cell_type": "code",
   "execution_count": 228,
   "metadata": {},
   "outputs": [],
   "source": [
    "results = pd.DataFrame(np.array([ndsg_0,ndsg_1,ndsg_ignore,ndsg_all]).T,columns=['NDCG(0)','NDCG(1)','NDCG(ignore)','NDCG(all)'],index=index_col)\n",
    "results.to_markdown('../expirements/val_res.md')"
   ]
  },
  {
   "cell_type": "code",
   "execution_count": 229,
   "metadata": {},
   "outputs": [
    {
     "data": {
      "text/html": [
       "<div>\n",
       "<style scoped>\n",
       "    .dataframe tbody tr th:only-of-type {\n",
       "        vertical-align: middle;\n",
       "    }\n",
       "\n",
       "    .dataframe tbody tr th {\n",
       "        vertical-align: top;\n",
       "    }\n",
       "\n",
       "    .dataframe thead th {\n",
       "        text-align: right;\n",
       "    }\n",
       "</style>\n",
       "<table border=\"1\" class=\"dataframe\">\n",
       "  <thead>\n",
       "    <tr style=\"text-align: right;\">\n",
       "      <th></th>\n",
       "      <th>NDCG(0)</th>\n",
       "      <th>NDCG(1)</th>\n",
       "      <th>NDCG(ignore)</th>\n",
       "      <th>NDCG(all)</th>\n",
       "    </tr>\n",
       "  </thead>\n",
       "  <tbody>\n",
       "    <tr>\n",
       "      <th>Constant_classifier</th>\n",
       "      <td>0.110349</td>\n",
       "      <td>0.875781</td>\n",
       "      <td>0.470435</td>\n",
       "      <td>0.503179</td>\n",
       "    </tr>\n",
       "    <tr>\n",
       "      <th>CatBoostClassifier</th>\n",
       "      <td>0.110349</td>\n",
       "      <td>0.875781</td>\n",
       "      <td>0.470435</td>\n",
       "      <td>0.471577</td>\n",
       "    </tr>\n",
       "    <tr>\n",
       "      <th>CatBoostRanker</th>\n",
       "      <td>0.106677</td>\n",
       "      <td>0.872109</td>\n",
       "      <td>0.454782</td>\n",
       "      <td>0.465387</td>\n",
       "    </tr>\n",
       "    <tr>\n",
       "      <th>LGBMRanker</th>\n",
       "      <td>0.117858</td>\n",
       "      <td>0.883290</td>\n",
       "      <td>0.502447</td>\n",
       "      <td>0.498202</td>\n",
       "    </tr>\n",
       "    <tr>\n",
       "      <th>RandomForestClassifier</th>\n",
       "      <td>0.147554</td>\n",
       "      <td>0.912986</td>\n",
       "      <td>0.629044</td>\n",
       "      <td>0.696309</td>\n",
       "    </tr>\n",
       "  </tbody>\n",
       "</table>\n",
       "</div>"
      ],
      "text/plain": [
       "                         NDCG(0)   NDCG(1)  NDCG(ignore)  NDCG(all)\n",
       "Constant_classifier     0.110349  0.875781      0.470435   0.503179\n",
       "CatBoostClassifier      0.110349  0.875781      0.470435   0.471577\n",
       "CatBoostRanker          0.106677  0.872109      0.454782   0.465387\n",
       "LGBMRanker              0.117858  0.883290      0.502447   0.498202\n",
       "RandomForestClassifier  0.147554  0.912986      0.629044   0.696309"
      ]
     },
     "execution_count": 229,
     "metadata": {},
     "output_type": "execute_result"
    }
   ],
   "source": [
    "results"
   ]
  },
  {
   "cell_type": "markdown",
   "metadata": {},
   "source": [
    "### Таким образом лучший ранкер, который прям ранжирует, как и просят в задании - LGBMRanker, а лучшая модель по метрикам - RandomForestClassifier, обученный с использованием синтетических данных"
   ]
  },
  {
   "cell_type": "code",
   "execution_count": null,
   "metadata": {},
   "outputs": [],
   "source": []
  }
 ],
 "metadata": {
  "kernelspec": {
   "display_name": "new_env",
   "language": "python",
   "name": "python3"
  },
  "language_info": {
   "codemirror_mode": {
    "name": "ipython",
    "version": 3
   },
   "file_extension": ".py",
   "mimetype": "text/x-python",
   "name": "python",
   "nbconvert_exporter": "python",
   "pygments_lexer": "ipython3",
   "version": "3.10.13"
  }
 },
 "nbformat": 4,
 "nbformat_minor": 2
}
